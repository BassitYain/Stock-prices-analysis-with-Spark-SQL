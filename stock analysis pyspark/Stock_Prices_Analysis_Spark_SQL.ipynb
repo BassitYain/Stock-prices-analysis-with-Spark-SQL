{
  "cells": [
    {
      "cell_type": "markdown",
      "metadata": {
        "id": "d99g2KpE4vZ0"
      },
      "source": [
        "# **Stock Prices Analysis using PySpark SQL**"
      ]
    },
    {
      "cell_type": "markdown",
      "metadata": {},
      "source": [
        "![Sample Image](https://www.sharegurukul.com/wp-content/uploads/2018/12/technical-analysis.jpg)"
      ]
    },
    {
      "cell_type": "code",
      "execution_count": 4,
      "metadata": {
        "colab": {
          "base_uri": "https://localhost:8080/"
        },
        "id": "iXUgy9yZ5Wvp",
        "outputId": "6b9e480c-488e-409b-c318-f519e0808132"
      },
      "outputs": [
        {
          "name": "stdout",
          "output_type": "stream",
          "text": [
            "Collecting pyspark\n",
            "  Downloading pyspark-3.2.0.tar.gz (281.3 MB)\n",
            "\u001b[K     |████████████████████████████████| 281.3 MB 41 kB/s \n",
            "\u001b[?25hCollecting py4j==0.10.9.2\n",
            "  Downloading py4j-0.10.9.2-py2.py3-none-any.whl (198 kB)\n",
            "\u001b[K     |████████████████████████████████| 198 kB 41.9 MB/s \n",
            "\u001b[?25hBuilding wheels for collected packages: pyspark\n",
            "  Building wheel for pyspark (setup.py) ... \u001b[?25l\u001b[?25hdone\n",
            "  Created wheel for pyspark: filename=pyspark-3.2.0-py2.py3-none-any.whl size=281805912 sha256=a6c53104c0c026a8c907b368e66bf4e605889452a8b82a01574a486960fb1c90\n",
            "  Stored in directory: /root/.cache/pip/wheels/0b/de/d2/9be5d59d7331c6c2a7c1b6d1a4f463ce107332b1ecd4e80718\n",
            "Successfully built pyspark\n",
            "Installing collected packages: py4j, pyspark\n",
            "Successfully installed py4j-0.10.9.2 pyspark-3.2.0\n"
          ]
        }
      ],
      "source": [
        "! pip install pyspark"
      ]
    },
    {
      "cell_type": "code",
      "execution_count": 1,
      "metadata": {
        "id": "745Q1GWO4vZ_"
      },
      "outputs": [
        {
          "name": "stderr",
          "output_type": "stream",
          "text": [
            "24/09/30 15:24:54 WARN Utils: Your hostname, Yains-MacBook-Air.local resolves to a loopback address: 127.0.0.1; using 192.168.1.48 instead (on interface en0)\n",
            "24/09/30 15:24:54 WARN Utils: Set SPARK_LOCAL_IP if you need to bind to another address\n",
            "Setting default log level to \"WARN\".\n",
            "To adjust logging level use sc.setLogLevel(newLevel). For SparkR, use setLogLevel(newLevel).\n",
            "24/09/30 15:24:54 WARN NativeCodeLoader: Unable to load native-hadoop library for your platform... using builtin-java classes where applicable\n"
          ]
        }
      ],
      "source": [
        "import pyspark\n",
        "from pyspark import SparkContext\n",
        "\n",
        "sc = SparkContext.getOrCreate()"
      ]
    },
    {
      "cell_type": "code",
      "execution_count": 2,
      "metadata": {
        "colab": {
          "base_uri": "https://localhost:8080/",
          "height": 196
        },
        "id": "1F6bA4Zx5r1h",
        "outputId": "4189eaec-3d21-4698-8f0d-d71715effd42"
      },
      "outputs": [
        {
          "data": {
            "text/html": [
              "\n",
              "        <div>\n",
              "            <p><b>SparkContext</b></p>\n",
              "\n",
              "            <p><a href=\"http://192.168.1.48:4040\">Spark UI</a></p>\n",
              "\n",
              "            <dl>\n",
              "              <dt>Version</dt>\n",
              "                <dd><code>v3.5.0</code></dd>\n",
              "              <dt>Master</dt>\n",
              "                <dd><code>local[*]</code></dd>\n",
              "              <dt>AppName</dt>\n",
              "                <dd><code>pyspark-shell</code></dd>\n",
              "            </dl>\n",
              "        </div>\n",
              "        "
            ],
            "text/plain": [
              "<SparkContext master=local[*] appName=pyspark-shell>"
            ]
          },
          "execution_count": 2,
          "metadata": {},
          "output_type": "execute_result"
        }
      ],
      "source": [
        "sc"
      ]
    },
    {
      "cell_type": "code",
      "execution_count": 3,
      "metadata": {
        "colab": {
          "base_uri": "https://localhost:8080/"
        },
        "id": "n2lWzjta4vaA",
        "outputId": "c0cd3061-3104-435e-b18c-9aa2650534c1"
      },
      "outputs": [
        {
          "data": {
            "text/plain": [
              "pyspark.context.SparkContext"
            ]
          },
          "execution_count": 3,
          "metadata": {},
          "output_type": "execute_result"
        }
      ],
      "source": [
        "type(sc)"
      ]
    },
    {
      "cell_type": "code",
      "execution_count": 4,
      "metadata": {
        "id": "eNxq4deR4vaA"
      },
      "outputs": [],
      "source": [
        "data = [1, 2, 3, 4, 5]\n",
        "distData = sc.parallelize(data)"
      ]
    },
    {
      "cell_type": "code",
      "execution_count": 5,
      "metadata": {
        "colab": {
          "base_uri": "https://localhost:8080/"
        },
        "id": "jLgJ-J994vaC",
        "outputId": "6669ed86-2ca9-4490-fb94-51b384f439c6"
      },
      "outputs": [
        {
          "name": "stderr",
          "output_type": "stream",
          "text": [
            "/Users/tequan/miniforge3/lib/python3.10/site-packages/pyspark/sql/context.py:113: FutureWarning: Deprecated in 3.0.0. Use SparkSession.builder.getOrCreate() instead.\n",
            "  warnings.warn(\n"
          ]
        }
      ],
      "source": [
        "from pyspark.sql import SQLContext\n",
        "\n",
        "sqlContext = SQLContext(sc)"
      ]
    },
    {
      "cell_type": "code",
      "execution_count": 6,
      "metadata": {
        "colab": {
          "base_uri": "https://localhost:8080/"
        },
        "id": "k-b3sJbg4vaD",
        "outputId": "5396e44e-a4f4-48c7-efca-065d1174eaea"
      },
      "outputs": [
        {
          "name": "stderr",
          "output_type": "stream",
          "text": [
            "                                                                                \r"
          ]
        },
        {
          "data": {
            "text/plain": [
              "[Row(name='Alice', age=1)]"
            ]
          },
          "execution_count": 6,
          "metadata": {},
          "output_type": "execute_result"
        }
      ],
      "source": [
        "l = [('Alice', 1)]\n",
        "df = sqlContext.createDataFrame(l, ['name', 'age'])\n",
        "df.collect()"
      ]
    },
    {
      "cell_type": "code",
      "execution_count": 9,
      "metadata": {
        "colab": {
          "base_uri": "https://localhost:8080/"
        },
        "id": "gh42iM_D4vaE",
        "outputId": "27cc2630-3bfe-4030-b89d-b54f9b80ad9a"
      },
      "outputs": [
        {
          "data": {
            "text/plain": [
              "['Date,Open,High,Low,Close,Adj Close,Volume',\n",
              " '2010-06-29,1.266667,1.666667,1.169333,1.592667,1.592667,281494500',\n",
              " '2010-06-30,1.719333,2.028000,1.553333,1.588667,1.588667,257806500',\n",
              " '2010-07-01,1.666667,1.728000,1.351333,1.464000,1.464000,123282000',\n",
              " '2010-07-02,1.533333,1.540000,1.247333,1.280000,1.280000,77097000',\n",
              " '2010-07-06,1.333333,1.333333,1.055333,1.074000,1.074000,103003500',\n",
              " '2010-07-07,1.093333,1.108667,0.998667,1.053333,1.053333,103825500',\n",
              " '2010-07-08,1.076000,1.168000,1.038000,1.164000,1.164000,115671000',\n",
              " '2010-07-09,1.172000,1.193333,1.103333,1.160000,1.160000,60759000',\n",
              " '2010-07-12,1.196667,1.204667,1.133333,1.136667,1.136667,33037500',\n",
              " '2010-07-13,1.159333,1.242667,1.126667,1.209333,1.209333,40201500',\n",
              " '2010-07-14,1.196000,1.343333,1.184000,1.322667,1.322667,62928000',\n",
              " '2010-07-15,1.329333,1.433333,1.266667,1.326000,1.326000,56097000',\n",
              " '2010-07-16,1.380000,1.420000,1.336667,1.376000,1.376000,39319500',\n",
              " '2010-07-19,1.424667,1.483333,1.394667,1.460667,1.460667,37297500',\n",
              " '2010-07-20,1.456667,1.456667,1.336667,1.353333,1.353333,27379500',\n",
              " '2010-07-21,1.377333,1.393333,1.300000,1.348000,1.348000,18787500',\n",
              " '2010-07-22,1.366667,1.416667,1.358000,1.400000,1.400000,14367000',\n",
              " '2010-07-23,1.412667,1.437333,1.404000,1.419333,1.419333,9804000',\n",
              " '2010-07-26,1.433333,1.433333,1.353333,1.396667,1.396667,13833000']"
            ]
          },
          "execution_count": 9,
          "metadata": {},
          "output_type": "execute_result"
        }
      ],
      "source": [
        "data_file = 'TSLA.csv'\n",
        "raw_rdd = sc.textFile(data_file).cache()\n",
        "raw_rdd.take(20)"
      ]
    },
    {
      "cell_type": "code",
      "execution_count": 8,
      "metadata": {
        "colab": {
          "base_uri": "https://localhost:8080/"
        },
        "id": "kBGaXtsb4vaF",
        "outputId": "9e2257d1-a9c9-4ff1-c017-ca19dc663367"
      },
      "outputs": [
        {
          "data": {
            "text/plain": [
              "pyspark.rdd.RDD"
            ]
          },
          "execution_count": 8,
          "metadata": {},
          "output_type": "execute_result"
        }
      ],
      "source": [
        "type(raw_rdd)"
      ]
    },
    {
      "cell_type": "code",
      "execution_count": 10,
      "metadata": {
        "colab": {
          "base_uri": "https://localhost:8080/"
        },
        "id": "ct894Wap4vaG",
        "outputId": "4fb90d01-9058-488c-ce95-f972d1022fb0"
      },
      "outputs": [
        {
          "name": "stdout",
          "output_type": "stream",
          "text": [
            "[['Date', 'Open', 'High', 'Low', 'Close', 'Adj Close', 'Volume'], ['2010-06-29', '1.266667', '1.666667', '1.169333', '1.592667', '1.592667', '281494500']]\n",
            "<class 'pyspark.rdd.PipelinedRDD'>\n"
          ]
        }
      ],
      "source": [
        "csv_rdd = raw_rdd.map(lambda row: row.split(\",\"))\n",
        "print(csv_rdd.take(2))\n",
        "print(type(csv_rdd))"
      ]
    },
    {
      "cell_type": "code",
      "execution_count": 11,
      "metadata": {
        "colab": {
          "base_uri": "https://localhost:8080/"
        },
        "id": "FVzdCF9S4vaH",
        "outputId": "92a44518-7b4a-4888-dfbf-7229ae8eb4fc"
      },
      "outputs": [
        {
          "data": {
            "text/plain": [
              "7"
            ]
          },
          "execution_count": 11,
          "metadata": {},
          "output_type": "execute_result"
        }
      ],
      "source": [
        "len(csv_rdd.take(1)[0])"
      ]
    },
    {
      "cell_type": "code",
      "execution_count": 12,
      "metadata": {
        "id": "9vhm4krP4vaI"
      },
      "outputs": [],
      "source": [
        "df = sqlContext.read.load(data_file, \n",
        "                      format='com.databricks.spark.csv', \n",
        "                      header='true', \n",
        "                      inferSchema='true')"
      ]
    },
    {
      "cell_type": "code",
      "execution_count": 13,
      "metadata": {
        "colab": {
          "base_uri": "https://localhost:8080/"
        },
        "id": "0IC2OI684vaI",
        "outputId": "f18cbd55-9e29-4b09-eafb-d3731a755acb"
      },
      "outputs": [
        {
          "data": {
            "text/plain": [
              "3562"
            ]
          },
          "execution_count": 13,
          "metadata": {},
          "output_type": "execute_result"
        }
      ],
      "source": [
        "df.count()"
      ]
    },
    {
      "cell_type": "code",
      "execution_count": 14,
      "metadata": {
        "colab": {
          "base_uri": "https://localhost:8080/"
        },
        "id": "T_YXhd6y4vaJ",
        "outputId": "1c5e59c2-7cf3-47aa-fa59-c1bb7e3af37a"
      },
      "outputs": [
        {
          "data": {
            "text/plain": [
              "[Row(Date=datetime.date(2010, 6, 29), Open=1.266667, High=1.666667, Low=1.169333, Close=1.592667, Adj Close=1.592667, Volume=281494500),\n",
              " Row(Date=datetime.date(2010, 6, 30), Open=1.719333, High=2.028, Low=1.553333, Close=1.588667, Adj Close=1.588667, Volume=257806500),\n",
              " Row(Date=datetime.date(2010, 7, 1), Open=1.666667, High=1.728, Low=1.351333, Close=1.464, Adj Close=1.464, Volume=123282000),\n",
              " Row(Date=datetime.date(2010, 7, 2), Open=1.533333, High=1.54, Low=1.247333, Close=1.28, Adj Close=1.28, Volume=77097000),\n",
              " Row(Date=datetime.date(2010, 7, 6), Open=1.333333, High=1.333333, Low=1.055333, Close=1.074, Adj Close=1.074, Volume=103003500)]"
            ]
          },
          "execution_count": 14,
          "metadata": {},
          "output_type": "execute_result"
        }
      ],
      "source": [
        "df.take(5)"
      ]
    },
    {
      "cell_type": "code",
      "execution_count": 15,
      "metadata": {
        "colab": {
          "base_uri": "https://localhost:8080/"
        },
        "id": "Vz8aYi2T4vaK",
        "outputId": "6667ceb3-7c5a-4316-8c8c-33c7077d4582"
      },
      "outputs": [
        {
          "name": "stdout",
          "output_type": "stream",
          "text": [
            "root\n",
            " |-- Date: date (nullable = true)\n",
            " |-- Open: double (nullable = true)\n",
            " |-- High: double (nullable = true)\n",
            " |-- Low: double (nullable = true)\n",
            " |-- Close: double (nullable = true)\n",
            " |-- Adj Close: double (nullable = true)\n",
            " |-- Volume: integer (nullable = true)\n",
            "\n"
          ]
        }
      ],
      "source": [
        "df.printSchema()"
      ]
    },
    {
      "cell_type": "code",
      "execution_count": 16,
      "metadata": {
        "colab": {
          "base_uri": "https://localhost:8080/",
          "height": 206
        },
        "id": "zDg-a-6D4vaK",
        "outputId": "bcb0a0e8-22f2-4b9d-8662-08d76894e2c0"
      },
      "outputs": [
        {
          "data": {
            "text/html": [
              "<div>\n",
              "<style scoped>\n",
              "    .dataframe tbody tr th:only-of-type {\n",
              "        vertical-align: middle;\n",
              "    }\n",
              "\n",
              "    .dataframe tbody tr th {\n",
              "        vertical-align: top;\n",
              "    }\n",
              "\n",
              "    .dataframe thead th {\n",
              "        text-align: right;\n",
              "    }\n",
              "</style>\n",
              "<table border=\"1\" class=\"dataframe\">\n",
              "  <thead>\n",
              "    <tr style=\"text-align: right;\">\n",
              "      <th></th>\n",
              "      <th>Date</th>\n",
              "      <th>Open</th>\n",
              "      <th>High</th>\n",
              "      <th>Low</th>\n",
              "      <th>Close</th>\n",
              "      <th>Adj Close</th>\n",
              "      <th>Volume</th>\n",
              "    </tr>\n",
              "  </thead>\n",
              "  <tbody>\n",
              "    <tr>\n",
              "      <th>0</th>\n",
              "      <td>2010-06-29</td>\n",
              "      <td>1.266667</td>\n",
              "      <td>1.666667</td>\n",
              "      <td>1.169333</td>\n",
              "      <td>1.592667</td>\n",
              "      <td>1.592667</td>\n",
              "      <td>281494500</td>\n",
              "    </tr>\n",
              "    <tr>\n",
              "      <th>1</th>\n",
              "      <td>2010-06-30</td>\n",
              "      <td>1.719333</td>\n",
              "      <td>2.028000</td>\n",
              "      <td>1.553333</td>\n",
              "      <td>1.588667</td>\n",
              "      <td>1.588667</td>\n",
              "      <td>257806500</td>\n",
              "    </tr>\n",
              "    <tr>\n",
              "      <th>2</th>\n",
              "      <td>2010-07-01</td>\n",
              "      <td>1.666667</td>\n",
              "      <td>1.728000</td>\n",
              "      <td>1.351333</td>\n",
              "      <td>1.464000</td>\n",
              "      <td>1.464000</td>\n",
              "      <td>123282000</td>\n",
              "    </tr>\n",
              "    <tr>\n",
              "      <th>3</th>\n",
              "      <td>2010-07-02</td>\n",
              "      <td>1.533333</td>\n",
              "      <td>1.540000</td>\n",
              "      <td>1.247333</td>\n",
              "      <td>1.280000</td>\n",
              "      <td>1.280000</td>\n",
              "      <td>77097000</td>\n",
              "    </tr>\n",
              "    <tr>\n",
              "      <th>4</th>\n",
              "      <td>2010-07-06</td>\n",
              "      <td>1.333333</td>\n",
              "      <td>1.333333</td>\n",
              "      <td>1.055333</td>\n",
              "      <td>1.074000</td>\n",
              "      <td>1.074000</td>\n",
              "      <td>103003500</td>\n",
              "    </tr>\n",
              "  </tbody>\n",
              "</table>\n",
              "</div>"
            ],
            "text/plain": [
              "         Date      Open      High       Low     Close  Adj Close     Volume\n",
              "0  2010-06-29  1.266667  1.666667  1.169333  1.592667   1.592667  281494500\n",
              "1  2010-06-30  1.719333  2.028000  1.553333  1.588667   1.588667  257806500\n",
              "2  2010-07-01  1.666667  1.728000  1.351333  1.464000   1.464000  123282000\n",
              "3  2010-07-02  1.533333  1.540000  1.247333  1.280000   1.280000   77097000\n",
              "4  2010-07-06  1.333333  1.333333  1.055333  1.074000   1.074000  103003500"
            ]
          },
          "execution_count": 16,
          "metadata": {},
          "output_type": "execute_result"
        }
      ],
      "source": [
        "import pandas\n",
        "df.toPandas().head(5)"
      ]
    },
    {
      "cell_type": "code",
      "execution_count": 25,
      "metadata": {
        "id": "sqCVOsDU4vaL"
      },
      "outputs": [],
      "source": [
        "from pyspark.sql.types import *\n",
        "schema = StructType([\n",
        "   StructField(\"Date\", DateType(), True),\n",
        "   StructField(\"Open\", DoubleType(), True),\n",
        "   StructField(\"High\", DoubleType(), True),\n",
        "   StructField(\"Low\", DoubleType(), True),\n",
        "   StructField(\"Close\", DoubleType(), True),\n",
        "   StructField(\"Adj Close\", DoubleType(), True),\n",
        "   StructField(\"Volume\", IntegerType(), True)])\n",
        "\n",
        "\n",
        "df2 = sqlContext.read.load(data_file, \n",
        "                      format='com.databricks.spark.csv', \n",
        "                      header='true', \n",
        "                      schema=schema)"
      ]
    },
    {
      "cell_type": "code",
      "execution_count": 26,
      "metadata": {
        "colab": {
          "base_uri": "https://localhost:8080/"
        },
        "id": "IsOfSS6g4vaL",
        "outputId": "1e1de293-dc5f-46f7-ddba-bd16d9a1b0dd"
      },
      "outputs": [
        {
          "data": {
            "text/plain": [
              "[Row(Date=datetime.date(2010, 6, 29), Open=1.266667, High=1.666667, Low=1.169333, Close=1.592667, Adj Close=1.592667, Volume=281494500),\n",
              " Row(Date=datetime.date(2010, 6, 30), Open=1.719333, High=2.028, Low=1.553333, Close=1.588667, Adj Close=1.588667, Volume=257806500),\n",
              " Row(Date=datetime.date(2010, 7, 1), Open=1.666667, High=1.728, Low=1.351333, Close=1.464, Adj Close=1.464, Volume=123282000),\n",
              " Row(Date=datetime.date(2010, 7, 2), Open=1.533333, High=1.54, Low=1.247333, Close=1.28, Adj Close=1.28, Volume=77097000),\n",
              " Row(Date=datetime.date(2010, 7, 6), Open=1.333333, High=1.333333, Low=1.055333, Close=1.074, Adj Close=1.074, Volume=103003500)]"
            ]
          },
          "execution_count": 26,
          "metadata": {},
          "output_type": "execute_result"
        }
      ],
      "source": [
        "df2.take(5)"
      ]
    },
    {
      "cell_type": "code",
      "execution_count": 27,
      "metadata": {
        "colab": {
          "base_uri": "https://localhost:8080/"
        },
        "id": "rHtIdFhF4vaM",
        "outputId": "7d7acafe-af8e-4333-ae2d-cb35ea162028"
      },
      "outputs": [
        {
          "name": "stdout",
          "output_type": "stream",
          "text": [
            "root\n",
            " |-- Date: date (nullable = true)\n",
            " |-- Open: double (nullable = true)\n",
            " |-- High: double (nullable = true)\n",
            " |-- Low: double (nullable = true)\n",
            " |-- Close: double (nullable = true)\n",
            " |-- Adj Close: double (nullable = true)\n",
            " |-- Volume: integer (nullable = true)\n",
            "\n"
          ]
        }
      ],
      "source": [
        "df2.printSchema()"
      ]
    },
    {
      "cell_type": "code",
      "execution_count": 28,
      "metadata": {
        "colab": {
          "base_uri": "https://localhost:8080/"
        },
        "id": "u33LjkQa4vaM",
        "outputId": "4ff8cdf3-6ae7-4368-b9c6-4a6d294d7ce7"
      },
      "outputs": [
        {
          "data": {
            "text/plain": [
              "pyspark.sql.dataframe.DataFrame"
            ]
          },
          "execution_count": 28,
          "metadata": {},
          "output_type": "execute_result"
        }
      ],
      "source": [
        "type(df)"
      ]
    },
    {
      "cell_type": "code",
      "execution_count": 29,
      "metadata": {
        "colab": {
          "base_uri": "https://localhost:8080/"
        },
        "id": "Yo-b_FAe4vaM",
        "outputId": "07c2f7ba-cf28-432e-cd5f-f63e6522ed16"
      },
      "outputs": [
        {
          "name": "stdout",
          "output_type": "stream",
          "text": [
            "+----------+--------+--------+--------+--------+---------+---------+\n",
            "|      Date|    Open|    High|     Low|   Close|Adj Close|   Volume|\n",
            "+----------+--------+--------+--------+--------+---------+---------+\n",
            "|2010-06-29|1.266667|1.666667|1.169333|1.592667| 1.592667|281494500|\n",
            "|2010-06-30|1.719333|   2.028|1.553333|1.588667| 1.588667|257806500|\n",
            "|2010-07-01|1.666667|   1.728|1.351333|   1.464|    1.464|123282000|\n",
            "|2010-07-02|1.533333|    1.54|1.247333|    1.28|     1.28| 77097000|\n",
            "|2010-07-06|1.333333|1.333333|1.055333|   1.074|    1.074|103003500|\n",
            "+----------+--------+--------+--------+--------+---------+---------+\n",
            "only showing top 5 rows\n",
            "\n"
          ]
        }
      ],
      "source": [
        "df.show(5)"
      ]
    },
    {
      "cell_type": "code",
      "execution_count": 30,
      "metadata": {
        "colab": {
          "base_uri": "https://localhost:8080/"
        },
        "id": "O8c7sMX74vaN",
        "outputId": "691591d5-3fe1-4501-f221-b0834b78c929"
      },
      "outputs": [
        {
          "name": "stdout",
          "output_type": "stream",
          "text": [
            "+----------+--------+--------+--------+--------+---------+---------+\n",
            "|      Date|    Open|    High|     Low|   Close|Adj Close|   Volume|\n",
            "+----------+--------+--------+--------+--------+---------+---------+\n",
            "|2010-06-29|1.266667|1.666667|1.169333|1.592667| 1.592667|281494500|\n",
            "|2010-06-30|1.719333|   2.028|1.553333|1.588667| 1.588667|257806500|\n",
            "|2010-07-01|1.666667|   1.728|1.351333|   1.464|    1.464|123282000|\n",
            "|2010-07-02|1.533333|    1.54|1.247333|    1.28|     1.28| 77097000|\n",
            "|2010-07-06|1.333333|1.333333|1.055333|   1.074|    1.074|103003500|\n",
            "|2010-07-07|1.093333|1.108667|0.998667|1.053333| 1.053333|103825500|\n",
            "|2010-07-08|   1.076|   1.168|   1.038|   1.164|    1.164|115671000|\n",
            "|2010-07-09|   1.172|1.193333|1.103333|    1.16|     1.16| 60759000|\n",
            "|2010-07-12|1.196667|1.204667|1.133333|1.136667| 1.136667| 33037500|\n",
            "|2010-07-13|1.159333|1.242667|1.126667|1.209333| 1.209333| 40201500|\n",
            "|2010-07-14|   1.196|1.343333|   1.184|1.322667| 1.322667| 62928000|\n",
            "|2010-07-15|1.329333|1.433333|1.266667|   1.326|    1.326| 56097000|\n",
            "|2010-07-16|    1.38|    1.42|1.336667|   1.376|    1.376| 39319500|\n",
            "|2010-07-19|1.424667|1.483333|1.394667|1.460667| 1.460667| 37297500|\n",
            "|2010-07-20|1.456667|1.456667|1.336667|1.353333| 1.353333| 27379500|\n",
            "|2010-07-21|1.377333|1.393333|     1.3|   1.348|    1.348| 18787500|\n",
            "|2010-07-22|1.366667|1.416667|   1.358|     1.4|      1.4| 14367000|\n",
            "|2010-07-23|1.412667|1.437333|   1.404|1.419333| 1.419333|  9804000|\n",
            "|2010-07-26|1.433333|1.433333|1.353333|1.396667| 1.396667| 13833000|\n",
            "|2010-07-27|   1.394|   1.412|1.350667|    1.37|     1.37|  9295500|\n",
            "+----------+--------+--------+--------+--------+---------+---------+\n",
            "only showing top 20 rows\n",
            "\n"
          ]
        }
      ],
      "source": [
        "tesla_data_file = 'TSLA.csv'\n",
        "\n",
        "tesla_df = sqlContext.read.load(tesla_data_file, \n",
        "                      format='com.databricks.spark.csv', \n",
        "                      header='true', \n",
        "                      inferSchema='true')\n",
        "\n",
        "tesla_df.show()"
      ]
    },
    {
      "cell_type": "code",
      "execution_count": 67,
      "metadata": {
        "colab": {
          "base_uri": "https://localhost:8080/"
        },
        "id": "W7s62_iP4vaN",
        "outputId": "9393ee83-8845-4540-9a8e-874f74f838a1"
      },
      "outputs": [
        {
          "name": "stdout",
          "output_type": "stream",
          "text": [
            "+----------+---------+---------+---------+---------+---------+--------+\n",
            "|      Date|     Open|     High|      Low|    Close|Adj Close|  Volume|\n",
            "+----------+---------+---------+---------+---------+---------+--------+\n",
            "|2004-08-19|50.050049|52.082081|48.028027|50.220219|50.220219|44659096|\n",
            "|2004-08-20|50.555557|54.594597|50.300301|54.209209|54.209209|22834343|\n",
            "|2004-08-23|55.430431|56.796799|54.579578|54.754753|54.754753|18256126|\n",
            "|2004-08-24|55.675674|55.855858|51.836838|52.487488|52.487488|15247337|\n",
            "|2004-08-25|52.532532|54.054054|51.991993|53.053055|53.053055| 9188602|\n",
            "|2004-08-26|52.527527| 54.02903|52.382381| 54.00901| 54.00901| 7094898|\n",
            "|2004-08-27|54.104103|54.364365|  52.8979|53.128128|53.128128| 6211782|\n",
            "|2004-08-30|52.692692|52.797798|51.056057|51.056057|51.056057| 5196798|\n",
            "|2004-08-31|51.201202|51.906906| 51.13113|51.236237|51.236237| 4917877|\n",
            "|2004-09-01|51.401402|51.536537|49.884884|50.175175|50.175175| 9138253|\n",
            "|2004-09-02|49.644646|51.236237| 49.51952|50.805805|50.805805|15118666|\n",
            "|2004-09-03|50.525524|50.920921|49.709709|50.055054|50.055054| 5152442|\n",
            "|2004-09-07|50.555557|51.051052|49.854855|50.840839|50.840839| 5847547|\n",
            "|2004-09-08|50.420422|51.566566|50.300301|51.201202|51.201202| 4985609|\n",
            "|2004-09-09|51.316315|51.406406|50.550552|51.206207|51.206207| 4061734|\n",
            "|2004-09-10|50.850849|53.333332|50.700703|52.717716|52.717716| 8698892|\n",
            "|2004-09-13|53.368366|54.259258|53.283283|53.803802|53.803802| 7844148|\n",
            "|2004-09-14|53.778778|56.056057|53.448448|  55.8008|  55.8008|10828960|\n",
            "|2004-09-15|55.335335|57.172173|55.155155|56.056057|56.056057|10713076|\n",
            "|2004-09-16|56.226227|57.957958|55.880882|57.042042|57.042042| 9266324|\n",
            "+----------+---------+---------+---------+---------+---------+--------+\n",
            "only showing top 20 rows\n",
            "\n"
          ]
        }
      ],
      "source": [
        "google_data_file = 'GOOG.csv'\n",
        "\n",
        "google_df = sqlContext.read.load(google_data_file, \n",
        "                      format='com.databricks.spark.csv', \n",
        "                      header='true', \n",
        "                      inferSchema='true')\n",
        "\n",
        "google_df.show()"
      ]
    },
    {
      "cell_type": "code",
      "execution_count": 32,
      "metadata": {
        "colab": {
          "base_uri": "https://localhost:8080/"
        },
        "id": "mZr1FGRH4vaN",
        "outputId": "acbc70ee-1bc8-41c8-8be6-8d1bdc7d7cd4"
      },
      "outputs": [
        {
          "name": "stdout",
          "output_type": "stream",
          "text": [
            "+----------+--------+--------+--------+--------+---------+----------+\n",
            "|      Date|    Open|    High|     Low|   Close|Adj Close|    Volume|\n",
            "+----------+--------+--------+--------+--------+---------+----------+\n",
            "|1997-05-15|0.121875|   0.125|0.096354|0.097917| 0.097917|1443120000|\n",
            "|1997-05-16|0.098438|0.098958|0.085417|0.086458| 0.086458| 294000000|\n",
            "|1997-05-19|0.088021|0.088542| 0.08125|0.085417| 0.085417| 122136000|\n",
            "|1997-05-20|0.086458|  0.0875|0.081771|0.081771| 0.081771| 109344000|\n",
            "|1997-05-21|0.081771|0.082292| 0.06875|0.071354| 0.071354| 377064000|\n",
            "|1997-05-22|0.071875|0.072396|0.065625|0.069792| 0.069792| 235536000|\n",
            "|1997-05-23|0.070313|0.076042|0.066667|   0.075|    0.075| 318744000|\n",
            "|1997-05-27|0.075521|0.082292|0.072917|0.079167| 0.079167| 173952000|\n",
            "|1997-05-28| 0.08125|0.081771|0.076563|0.076563| 0.076563|  91488000|\n",
            "|1997-05-29|0.077083|0.077083|0.073958| 0.07526|  0.07526|  69456000|\n",
            "|1997-05-30|   0.075|0.075521|0.073958|   0.075|    0.075|  51888000|\n",
            "|1997-06-02|0.075521|0.076563|   0.075|0.075521| 0.075521|  11832000|\n",
            "|1997-06-03|0.076563|0.076563|0.073958|0.073958| 0.073958|  23664000|\n",
            "|1997-06-04|0.073958|0.074479|0.069792|0.070833| 0.070833|  61608000|\n",
            "|1997-06-05|0.070833|0.077083| 0.06875|0.077083| 0.077083| 113448000|\n",
            "|1997-06-06|0.075781|0.085417|0.075521|0.082813| 0.082813| 156144000|\n",
            "|1997-06-09|0.082813|0.085417|0.082813|0.084375| 0.084375|  47040000|\n",
            "|1997-06-10|0.085417|0.085417|0.076563|0.079167| 0.079167| 109176000|\n",
            "|1997-06-11|0.079688|0.080208|0.076563|0.077083| 0.077083|  23760000|\n",
            "|1997-06-12|0.079167|0.082292|0.077604|0.080208| 0.080208|  32640000|\n",
            "+----------+--------+--------+--------+--------+---------+----------+\n",
            "only showing top 20 rows\n",
            "\n"
          ]
        }
      ],
      "source": [
        "amazon_data_file = 'AMZN.csv'\n",
        "\n",
        "amazon_df = sqlContext.read.load(amazon_data_file, \n",
        "                      format='com.databricks.spark.csv', \n",
        "                      header='true', \n",
        "                      inferSchema='true')\n",
        "\n",
        "amazon_df.show()"
      ]
    },
    {
      "cell_type": "code",
      "execution_count": 35,
      "metadata": {
        "colab": {
          "base_uri": "https://localhost:8080/"
        },
        "id": "rhoV8ncp4vaO",
        "outputId": "9901c12d-6508-4fc4-ed38-2d7d8c944e51"
      },
      "outputs": [
        {
          "name": "stdout",
          "output_type": "stream",
          "text": [
            "+----+-------------------+\n",
            "|year|     avg(Adj Close)|\n",
            "+----+-------------------+\n",
            "|1997|0.15632001250000002|\n",
            "|1998| 0.7830556865079368|\n",
            "|1999|  3.453115825396825|\n",
            "|2000| 2.3266834087301578|\n",
            "|2001| 0.6100212943548382|\n",
            "|2002| 0.8242063492063496|\n",
            "|2003| 1.8870694444444442|\n",
            "|2004| 2.1782619047619067|\n",
            "|2005| 1.9948551587301593|\n",
            "|2006| 1.7954661354581667|\n",
            "|2007| 3.3614741035856577|\n",
            "|2008|  3.494001976284587|\n",
            "|2009|  4.364091269841268|\n",
            "|2010|  6.957019841269843|\n",
            "|2011|  9.833601190476193|\n",
            "|2012| 11.015182000000001|\n",
            "|2013| 14.901579400793652|\n",
            "|2014| 16.627551603174613|\n",
            "|2015| 23.906914666666676|\n",
            "|2016|  34.97615664285715|\n",
            "+----+-------------------+\n",
            "only showing top 20 rows\n",
            "\n"
          ]
        }
      ],
      "source": [
        "import datetime\n",
        "from pyspark.sql.functions import year, month, dayofmonth\n",
        "\n",
        "# Average closing price per year for AMZN\n",
        "# stocksDF.select(year($\"dt\").alias(\"yr\"), $\"adjcloseprice\").groupBy(\"yr\").avg(\"adjcloseprice\").orderBy(desc(\"yr\")).show\n",
        "\n",
        "amazon_df.select(year(\"Date\").alias(\"year\"), \"Adj Close\").groupby(\"year\").avg(\"Adj Close\").sort(\"year\").show()"
      ]
    },
    {
      "cell_type": "code",
      "execution_count": 36,
      "metadata": {
        "colab": {
          "base_uri": "https://localhost:8080/"
        },
        "id": "VP2vFHWW4vaO",
        "outputId": "453651d2-75a8-4faa-95ab-41c7deffe2d9"
      },
      "outputs": [
        {
          "name": "stdout",
          "output_type": "stream",
          "text": [
            "+----+-----+-------------------+\n",
            "|year|month|     avg(Adj Close)|\n",
            "+----+-----+-------------------+\n",
            "|1997|    5|0.07942718181818181|\n",
            "|1997|    6|0.07688490476190475|\n",
            "|1997|    7|0.11027468181818184|\n",
            "|1997|    8|0.11156990476190473|\n",
            "|1997|    9|0.17462795238095238|\n",
            "|1997|   10| 0.2133718695652173|\n",
            "|1997|   11|0.21892821052631578|\n",
            "|1997|   12|0.22816059090909088|\n",
            "|1998|    1|0.24019535000000003|\n",
            "|1998|    2| 0.2648712105263158|\n",
            "|1998|    3|0.33668636363636356|\n",
            "|1998|    4| 0.3816965714285714|\n",
            "|1998|    5| 0.3737306000000001|\n",
            "|1998|    6| 0.5772728181818182|\n",
            "|1998|    7| 0.9896070909090908|\n",
            "|1998|    8| 0.9977245714285716|\n",
            "|1998|    9|  0.750328761904762|\n",
            "|1998|   10| 0.8834576363636365|\n",
            "|1998|   11| 1.2950000000000002|\n",
            "|1998|   12| 2.1854403181818185|\n",
            "+----+-----+-------------------+\n",
            "only showing top 20 rows\n",
            "\n"
          ]
        }
      ],
      "source": [
        "# Compute the average closing price per month for apc\n",
        "# stocksDF.select(year($\"dt\").alias(\"yr\"),month($\"dt\").alias(\"mo\"), $\"adjcloseprice\")\n",
        "# .groupBy(\"yr\",\"mo\").agg(avg(\"adjcloseprice\")).orderBy(desc(\"yr\"),desc(\"mo\")).show\n",
        "\n",
        "amazon_df.select(year(\"Date\").alias(\"year\"),\n",
        "                month(\"Date\").alias(\"month\"),\n",
        "                \"Adj Close\").groupby(\"year\", \"month\").avg(\"Adj Close\").sort(\"year\", \"month\").show()"
      ]
    },
    {
      "cell_type": "code",
      "execution_count": 37,
      "metadata": {
        "colab": {
          "base_uri": "https://localhost:8080/"
        },
        "id": "-Un1lE3K-FsM",
        "outputId": "d65bedd7-753b-4c4e-f750-19e21d8f2e31"
      },
      "outputs": [
        {
          "name": "stdout",
          "output_type": "stream",
          "text": [
            "== Parsed Logical Plan ==\n",
            "'Sort ['year ASC NULLS FIRST, 'month ASC NULLS FIRST], true\n",
            "+- Aggregate [year#527, month#528], [year#527, month#528, avg(Adj Close#411) AS avg(Adj Close)#536]\n",
            "   +- Project [year(Date#406) AS year#527, month(Date#406) AS month#528, Adj Close#411]\n",
            "      +- Relation [Date#406,Open#407,High#408,Low#409,Close#410,Adj Close#411,Volume#412] csv\n",
            "\n",
            "== Analyzed Logical Plan ==\n",
            "year: int, month: int, avg(Adj Close): double\n",
            "Sort [year#527 ASC NULLS FIRST, month#528 ASC NULLS FIRST], true\n",
            "+- Aggregate [year#527, month#528], [year#527, month#528, avg(Adj Close#411) AS avg(Adj Close)#536]\n",
            "   +- Project [year(Date#406) AS year#527, month(Date#406) AS month#528, Adj Close#411]\n",
            "      +- Relation [Date#406,Open#407,High#408,Low#409,Close#410,Adj Close#411,Volume#412] csv\n",
            "\n",
            "== Optimized Logical Plan ==\n",
            "Sort [year#527 ASC NULLS FIRST, month#528 ASC NULLS FIRST], true\n",
            "+- Aggregate [year#527, month#528], [year#527, month#528, avg(Adj Close#411) AS avg(Adj Close)#536]\n",
            "   +- Project [year(Date#406) AS year#527, month(Date#406) AS month#528, Adj Close#411]\n",
            "      +- Relation [Date#406,Open#407,High#408,Low#409,Close#410,Adj Close#411,Volume#412] csv\n",
            "\n",
            "== Physical Plan ==\n",
            "AdaptiveSparkPlan isFinalPlan=false\n",
            "+- Sort [year#527 ASC NULLS FIRST, month#528 ASC NULLS FIRST], true, 0\n",
            "   +- Exchange rangepartitioning(year#527 ASC NULLS FIRST, month#528 ASC NULLS FIRST, 200), ENSURE_REQUIREMENTS, [plan_id=327]\n",
            "      +- HashAggregate(keys=[year#527, month#528], functions=[avg(Adj Close#411)], output=[year#527, month#528, avg(Adj Close)#536])\n",
            "         +- Exchange hashpartitioning(year#527, month#528, 200), ENSURE_REQUIREMENTS, [plan_id=324]\n",
            "            +- HashAggregate(keys=[year#527, month#528], functions=[partial_avg(Adj Close#411)], output=[year#527, month#528, sum#542, count#543L])\n",
            "               +- Project [year(Date#406) AS year#527, month(Date#406) AS month#528, Adj Close#411]\n",
            "                  +- FileScan csv [Date#406,Adj Close#411] Batched: false, DataFilters: [], Format: CSV, Location: InMemoryFileIndex(1 paths)[file:/Users/tequan/Downloads/stock analysis pyspark/AMZN.csv], PartitionFilters: [], PushedFilters: [], ReadSchema: struct<Date:date,Adj Close:double>\n",
            "\n"
          ]
        }
      ],
      "source": [
        "amazon_df.select(year(\"Date\").alias(\"year\"),\n",
        "                month(\"Date\").alias(\"month\"),\n",
        "                \"Adj Close\").groupby(\"year\", \"month\").avg(\"Adj Close\").sort(\"year\", \"month\").explain(True)"
      ]
    },
    {
      "cell_type": "code",
      "execution_count": 68,
      "metadata": {
        "colab": {
          "base_uri": "https://localhost:8080/"
        },
        "id": "l1Hwg8y14vaP",
        "outputId": "a1e6d831-21f0-4eee-88c1-b112382da420"
      },
      "outputs": [],
      "source": [
        "# register the DataFrames as temp views\n",
        "\n",
        "amazon_df.createOrReplaceTempView(\"amazon_stocks\")\n",
        "google_df.createOrReplaceTempView(\"google_stocks\")\n",
        "tesla_df.createOrReplaceTempView(\"tesla_stocks\")"
      ]
    },
    {
      "cell_type": "code",
      "execution_count": 69,
      "metadata": {
        "colab": {
          "base_uri": "https://localhost:8080/"
        },
        "id": "qQQICHof4vaP",
        "outputId": "9f3bcba6-e973-4783-aa4b-08fe402d637e"
      },
      "outputs": [
        {
          "name": "stdout",
          "output_type": "stream",
          "text": [
            "+----------+--------+--------+--------+--------+---------+----------+\n",
            "|      Date|    Open|    High|     Low|   Close|Adj Close|    Volume|\n",
            "+----------+--------+--------+--------+--------+---------+----------+\n",
            "|1997-05-15|0.121875|   0.125|0.096354|0.097917| 0.097917|1443120000|\n",
            "|1997-05-16|0.098438|0.098958|0.085417|0.086458| 0.086458| 294000000|\n",
            "|1997-05-19|0.088021|0.088542| 0.08125|0.085417| 0.085417| 122136000|\n",
            "|1997-05-20|0.086458|  0.0875|0.081771|0.081771| 0.081771| 109344000|\n",
            "|1997-05-21|0.081771|0.082292| 0.06875|0.071354| 0.071354| 377064000|\n",
            "+----------+--------+--------+--------+--------+---------+----------+\n",
            "only showing top 5 rows\n",
            "\n"
          ]
        }
      ],
      "source": [
        "sqlContext.sql(\"SELECT * FROM amazon_stocks\").show(5)"
      ]
    },
    {
      "cell_type": "code",
      "execution_count": 70,
      "metadata": {
        "colab": {
          "base_uri": "https://localhost:8080/"
        },
        "id": "46uVME514vaP",
        "outputId": "2d52e2eb-2283-41ed-df68-276c62c0b82c"
      },
      "outputs": [
        {
          "name": "stdout",
          "output_type": "stream",
          "text": [
            "+----+---+-------------------+\n",
            "|  yr| mo|      avg_adj_close|\n",
            "+----+---+-------------------+\n",
            "|1997|  5|0.07942718181818181|\n",
            "|1997|  6|0.07688490476190475|\n",
            "|1997|  7|0.11027468181818184|\n",
            "|1997|  8|0.11156990476190473|\n",
            "|1997|  9|0.17462795238095238|\n",
            "|1997| 10| 0.2133718695652173|\n",
            "|1997| 11|0.21892821052631578|\n",
            "|1997| 12|0.22816059090909088|\n",
            "|1998|  1|0.24019535000000003|\n",
            "|1998|  2| 0.2648712105263158|\n",
            "|1998|  3|0.33668636363636356|\n",
            "|1998|  4| 0.3816965714285714|\n",
            "|1998|  5| 0.3737306000000001|\n",
            "|1998|  6| 0.5772728181818182|\n",
            "|1998|  7| 0.9896070909090908|\n",
            "|1998|  8| 0.9977245714285716|\n",
            "|1998|  9|  0.750328761904762|\n",
            "|1998| 10| 0.8834576363636365|\n",
            "|1998| 11| 1.2950000000000002|\n",
            "|1998| 12| 2.1854403181818185|\n",
            "+----+---+-------------------+\n",
            "only showing top 20 rows\n",
            "\n"
          ]
        }
      ],
      "source": [
        "# Calculate and display the average closing price per month for XOM ordered by year,month \n",
        "\n",
        "sqlContext.sql(\"\"\"\n",
        "SELECT \n",
        "    year(amazon_stocks.Date) as yr, \n",
        "    month(amazon_stocks.Date) as mo, \n",
        "    avg(amazon_stocks.`Adj Close`) as avg_adj_close\n",
        "FROM \n",
        "    amazon_stocks \n",
        "GROUP BY \n",
        "    year(amazon_stocks.Date), \n",
        "    month(amazon_stocks.Date)\n",
        "ORDER BY yr, mo\n",
        "\"\"\").show()\n",
        "\n",
        "\n"
      ]
    },
    {
      "cell_type": "code",
      "execution_count": 71,
      "metadata": {
        "colab": {
          "base_uri": "https://localhost:8080/"
        },
        "id": "lCRqqAzd4vaQ",
        "outputId": "f6edf4bf-b56c-4eea-8dd0-e0db658adae2"
      },
      "outputs": [
        {
          "name": "stdout",
          "output_type": "stream",
          "text": [
            "+----------+----------+----------+------------------+\n",
            "|      Date|      Open|     Close|            spydif|\n",
            "+----------+----------+----------+------------------+\n",
            "|2004-10-25| 88.288284| 93.793793| 5.505508999999989|\n",
            "|2004-10-29| 99.544548| 95.415413| 4.129135000000005|\n",
            "|2004-11-05| 91.081078| 84.759758|           6.32132|\n",
            "|2004-11-11| 84.649651| 91.601601|6.9519499999999965|\n",
            "|2005-01-26| 89.724724| 94.714714| 4.989990000000006|\n",
            "|2005-02-02|107.882881|103.083084| 4.799796999999998|\n",
            "|2005-02-07|102.732735| 98.113113| 4.619622000000007|\n",
            "|2005-02-09|100.480476| 95.885887| 4.594588999999999|\n",
            "|2005-02-14| 91.516518| 96.591591| 5.075072999999989|\n",
            "|2005-05-23|121.701698|127.852852| 6.151154000000005|\n",
            "|2005-05-25|126.491493|130.535538| 4.044044999999997|\n",
            "|2005-06-06|141.336334|145.615616| 4.279281999999995|\n",
            "|2005-06-08|146.571579|139.919922|          6.651657|\n",
            "|2005-06-20|138.183182|  143.4935| 5.310318000000024|\n",
            "|2005-06-29|151.401398|  146.5065| 4.894898000000012|\n",
            "|2005-09-07|143.088089|147.582581| 4.494492000000008|\n",
            "|2005-09-28|157.267273|153.153152| 4.114120999999983|\n",
            "|2005-10-04|160.135132|155.655655| 4.479477000000003|\n",
            "|2005-10-26|173.313309|177.897903|  4.58459400000001|\n",
            "|2005-10-31|180.300293|186.256256| 5.955962999999997|\n",
            "+----------+----------+----------+------------------+\n",
            "only showing top 20 rows\n",
            "\n"
          ]
        }
      ],
      "source": [
        "# When did the closing price for SPY go up or down by more than 2 dollars?\n",
        "\n",
        "sqlContext.sql(\"\"\"\n",
        "               SELECT \n",
        "                    google_stocks.Date, \n",
        "                    google_stocks.Open, \n",
        "                    google_stocks.Close, \n",
        "                    abs(google_stocks.Close - google_stocks.Open) as spydif \n",
        "               FROM google_stocks \n",
        "               WHERE abs(google_stocks.Close - google_stocks.Open) > 4 \n",
        "               \"\"\").show()\n",
        "\n"
      ]
    },
    {
      "cell_type": "code",
      "execution_count": 72,
      "metadata": {
        "colab": {
          "base_uri": "https://localhost:8080/"
        },
        "id": "UVuggW114vaQ",
        "outputId": "fb166235-7d2a-4f93-866c-ec77962ba265"
      },
      "outputs": [
        {
          "name": "stdout",
          "output_type": "stream",
          "text": [
            "+----+--------------+--------------+\n",
            "|  yr|max(Adj Close)|min(Adj Close)|\n",
            "+----+--------------+--------------+\n",
            "|2010|      2.364667|      1.053333|\n",
            "|2011|      2.329333|      1.455333|\n",
            "|2012|         2.534|      1.519333|\n",
            "|2013|     12.891333|         2.194|\n",
            "|2014|     19.069332|      9.289333|\n",
            "|2015|     18.817333|     12.333333|\n",
            "|2016|     17.694668|         9.578|\n",
            "|2017|     25.666668|        14.466|\n",
            "|2018|     25.304667|        16.704|\n",
            "|2019|     28.729334|     11.931333|\n",
            "|2020|    235.223328|     24.081333|\n",
            "|2021|    409.970001|    187.666672|\n",
            "|2022|    399.926666|    109.099998|\n",
            "|2023|    293.339996|    108.099998|\n",
            "|2024|     263.26001|    142.050003|\n",
            "+----+--------------+--------------+\n",
            "\n"
          ]
        }
      ],
      "source": [
        "#What was the max, min closing price for SPY and XOM by Year?</font> \n",
        "\n",
        "sqlContext.sql(\"\"\"\n",
        "               SELECT \n",
        "                    year(tesla_stocks.Date) as yr, \n",
        "                    max(tesla_stocks.`Adj Close`), \n",
        "                    min(tesla_stocks.`Adj Close`) \n",
        "               FROM tesla_stocks \n",
        "               group By year(tesla_stocks.Date)\n",
        "               order by yr\n",
        "               \"\"\").show()\n",
        "\n"
      ]
    },
    {
      "cell_type": "code",
      "execution_count": 73,
      "metadata": {
        "id": "4XN0c9Wd4vaQ",
        "outputId": "a163cd44-f544-4b2d-984a-13a7314eb86b"
      },
      "outputs": [
        {
          "name": "stdout",
          "output_type": "stream",
          "text": [
            "== Physical Plan ==\n",
            "AdaptiveSparkPlan isFinalPlan=false\n",
            "+- HashAggregate(keys=[_groupingexpression#1332], functions=[max(Adj Close#226), min(Adj Close#226)])\n",
            "   +- Exchange hashpartitioning(_groupingexpression#1332, 200), ENSURE_REQUIREMENTS, [plan_id=1301]\n",
            "      +- HashAggregate(keys=[_groupingexpression#1332], functions=[partial_max(Adj Close#226), partial_min(Adj Close#226)])\n",
            "         +- Project [Adj Close#226, year(Date#221) AS _groupingexpression#1332]\n",
            "            +- FileScan csv [Date#221,Adj Close#226] Batched: false, DataFilters: [], Format: CSV, Location: InMemoryFileIndex(1 paths)[file:/Users/tequan/Downloads/stock analysis pyspark/TSLA.csv], PartitionFilters: [], PushedFilters: [], ReadSchema: struct<Date:date,Adj Close:double>\n",
            "\n",
            "\n"
          ]
        }
      ],
      "source": [
        "sqlContext.sql(\"SELECT year(tesla_stocks.Date) as yr, max(tesla_stocks.`Adj Close`), min(tesla_stocks.`Adj Close`) FROM tesla_stocks group By year(tesla_stocks.Date)\").explain()\n",
        "\n"
      ]
    },
    {
      "cell_type": "code",
      "execution_count": 74,
      "metadata": {
        "colab": {
          "base_uri": "https://localhost:8080/"
        },
        "id": "-91mGTAm4vaR",
        "outputId": "8e60c0ea-a894-41e7-bfb3-06536fbbeb95"
      },
      "outputs": [
        {
          "name": "stdout",
          "output_type": "stream",
          "text": [
            "+----------+----------+-----------+-----------+\n",
            "|      Date|teslaclose|amazonclose|googleclose|\n",
            "+----------+----------+-----------+-----------+\n",
            "|2010-06-29|  1.592667|     5.4305| 227.357361|\n",
            "|2010-06-30|  1.588667|      5.463| 222.697693|\n",
            "|2010-07-01|     1.464|      5.548| 219.964966|\n",
            "|2010-07-02|      1.28|      5.457|   218.4935|\n",
            "|2010-07-06|     1.074|      5.503|  218.25325|\n",
            "|2010-07-07|  1.053333|     5.6715| 225.325317|\n",
            "|2010-07-08|     1.164|      5.811| 228.508514|\n",
            "|2010-07-09|      1.16|      5.863| 233.978973|\n",
            "|2010-07-12|  1.136667|     5.9755| 238.153152|\n",
            "|2010-07-13|  1.209333|     6.1825| 244.844849|\n",
            "|2010-07-14|  1.322667|      6.165| 245.915909|\n",
            "|2010-07-15|     1.326|      6.103| 247.257263|\n",
            "|2010-07-16|     1.376|     5.9245| 230.035034|\n",
            "|2010-07-19|  1.460667|      5.997| 233.323318|\n",
            "|2010-07-20|  1.353333|      6.005| 241.036041|\n",
            "|2010-07-21|     1.348|     5.8715| 238.988983|\n",
            "|2010-07-22|       1.4|     6.0035| 242.647644|\n",
            "|2010-07-23|  1.419333|     5.9435| 245.275269|\n",
            "|2010-07-26|  1.396667|       5.92| 244.729736|\n",
            "|2010-07-27|      1.37|     5.8565| 246.561569|\n",
            "+----------+----------+-----------+-----------+\n",
            "only showing top 20 rows\n",
            "\n"
          ]
        }
      ],
      "source": [
        "# Join all stock closing prices in order to compare\n",
        "\n",
        "joinclose=sqlContext.sql(\"SELECT tesla_stocks.Date, tesla_stocks.`Adj Close` as teslaclose, amazon_stocks.`Adj Close` as amazonclose, google_stocks.`Adj Close` as googleclose from tesla_stocks join google_stocks on tesla_stocks.Date = google_stocks.Date join amazon_stocks on tesla_stocks.Date = amazon_stocks.Date\").cache()\n",
        "\n",
        "joinclose.show()\n",
        "\n",
        "joinclose.registerTempTable(\"joinclose\")"
      ]
    },
    {
      "cell_type": "code",
      "execution_count": 76,
      "metadata": {
        "colab": {
          "base_uri": "https://localhost:8080/"
        },
        "id": "S-1UBNlW4vaR",
        "outputId": "48f58007-190f-4166-e131-171bf26490d2"
      },
      "outputs": [
        {
          "name": "stdout",
          "output_type": "stream",
          "text": [
            "+----+------------------+------------------+------------------+\n",
            "|  yr|        teslaclose|       amazonclose|       googleclose|\n",
            "+----+------------------+------------------+------------------+\n",
            "|2010|  1.55612306923077| 7.467653846153843|267.62454727692307|\n",
            "|2011| 1.786984130952381| 9.833601190476193|284.77185524206357|\n",
            "|2012| 2.077906639999998|11.015182000000001| 321.7299694959999|\n",
            "|2013| 6.960082000000001|14.901579400793652| 442.5639325158732|\n",
            "|2014|14.888605805555553|16.627551603174613|  568.122366142857|\n",
            "|2015|15.336193071428559|23.906914666666676| 619.9882132103176|\n",
            "|2016|13.984484146825396| 34.97615664285715|  763.213214210318|\n",
            "|2017|20.954419609561768|48.408350561753004| 939.7730703545823|\n",
            "|2018|  21.1539946693227| 82.08630851792826|1122.0435856772904|\n",
            "|2019| 18.23534657539683| 89.45946026190477|1191.2169417142854|\n",
            "|2020| 96.66568879446635|134.04275452569178|1478.9931240158096|\n",
            "|2021| 259.9981617103175|167.19334932142868| 2484.497738793653|\n",
            "|2022|307.36414908771934|153.46636861403505|2706.8901795087704|\n",
            "+----+------------------+------------------+------------------+\n",
            "\n"
          ]
        }
      ],
      "source": [
        "sqlContext.sql(\"\"\"\n",
        "               SELECT \n",
        "                    year(joinclose.Date) as yr, \n",
        "                    avg(joinclose.teslaclose) as teslaclose, \n",
        "                    avg(joinclose.amazonclose) as amazonclose, \n",
        "                    avg(joinclose.googleclose) as googleclose \n",
        "               from joinclose \n",
        "               group By year(joinclose.Date) \n",
        "               order by year(joinclose.Date)\n",
        "               \"\"\").show()\n",
        "\n"
      ]
    },
    {
      "cell_type": "markdown",
      "metadata": {
        "id": "83iL2EJs_4FH"
      },
      "source": [
        "## **Saving to Parquet File**"
      ]
    },
    {
      "cell_type": "code",
      "execution_count": 77,
      "metadata": {
        "id": "ztUztWRu4vaR"
      },
      "outputs": [
        {
          "name": "stderr",
          "output_type": "stream",
          "text": [
            "                                                                                \r"
          ]
        }
      ],
      "source": [
        "joinclose.write.format(\"parquet\").save(\"joinstocks.parquet\")"
      ]
    },
    {
      "cell_type": "code",
      "execution_count": 78,
      "metadata": {
        "colab": {
          "base_uri": "https://localhost:8080/"
        },
        "id": "WE9clue74vaS",
        "outputId": "5d5d4ea2-6dbf-45e6-c454-c4145dbba21f"
      },
      "outputs": [
        {
          "name": "stdout",
          "output_type": "stream",
          "text": [
            "+----------+----------+-----------+-----------+\n",
            "|      Date|teslaclose|amazonclose|googleclose|\n",
            "+----------+----------+-----------+-----------+\n",
            "|2010-06-29|  1.592667|     5.4305| 227.357361|\n",
            "|2010-06-30|  1.588667|      5.463| 222.697693|\n",
            "|2010-07-01|     1.464|      5.548| 219.964966|\n",
            "|2010-07-02|      1.28|      5.457|   218.4935|\n",
            "|2010-07-06|     1.074|      5.503|  218.25325|\n",
            "|2010-07-07|  1.053333|     5.6715| 225.325317|\n",
            "|2010-07-08|     1.164|      5.811| 228.508514|\n",
            "|2010-07-09|      1.16|      5.863| 233.978973|\n",
            "|2010-07-12|  1.136667|     5.9755| 238.153152|\n",
            "|2010-07-13|  1.209333|     6.1825| 244.844849|\n",
            "|2010-07-14|  1.322667|      6.165| 245.915909|\n",
            "|2010-07-15|     1.326|      6.103| 247.257263|\n",
            "|2010-07-16|     1.376|     5.9245| 230.035034|\n",
            "|2010-07-19|  1.460667|      5.997| 233.323318|\n",
            "|2010-07-20|  1.353333|      6.005| 241.036041|\n",
            "|2010-07-21|     1.348|     5.8715| 238.988983|\n",
            "|2010-07-22|       1.4|     6.0035| 242.647644|\n",
            "|2010-07-23|  1.419333|     5.9435| 245.275269|\n",
            "|2010-07-26|  1.396667|       5.92| 244.729736|\n",
            "|2010-07-27|      1.37|     5.8565| 246.561569|\n",
            "+----------+----------+-----------+-----------+\n",
            "only showing top 20 rows\n",
            "\n"
          ]
        }
      ],
      "source": [
        "final_df = sqlContext.read.parquet(\"joinstocks.parquet\")\n",
        "final_df.show()"
      ]
    },
    {
      "cell_type": "code",
      "execution_count": 79,
      "metadata": {
        "colab": {
          "base_uri": "https://localhost:8080/"
        },
        "id": "0vZokehz4vaS",
        "outputId": "19874293-1caf-4cf6-8739-878a1d357529"
      },
      "outputs": [
        {
          "name": "stdout",
          "output_type": "stream",
          "text": [
            "root\n",
            " |-- Date: date (nullable = true)\n",
            " |-- teslaclose: double (nullable = true)\n",
            " |-- amazonclose: double (nullable = true)\n",
            " |-- googleclose: double (nullable = true)\n",
            "\n"
          ]
        }
      ],
      "source": [
        "final_df.printSchema()"
      ]
    },
    {
      "cell_type": "code",
      "execution_count": 80,
      "metadata": {
        "colab": {
          "base_uri": "https://localhost:8080/"
        },
        "id": "Hi1P3H-B4vaS",
        "outputId": "2200da79-1b79-4c3b-e939-1c01d3856f45"
      },
      "outputs": [
        {
          "name": "stdout",
          "output_type": "stream",
          "text": [
            "+----+-----+------------------+------------------+------------------+\n",
            "|year|month|   avg(teslaclose)|  avg(amazonclose)|  avg(googleclose)|\n",
            "+----+-----+------------------+------------------+------------------+\n",
            "|2010|    6|          1.590667|           5.44675|        225.027527|\n",
            "|2010|    7|1.3038729999999998|  5.87595238095238| 236.7198143809524|\n",
            "|2010|    8|1.3007272727272727| 6.318636363636364| 239.8964870909091|\n",
            "|2010|    9|1.3826984285714283| 7.383214285714287|247.51489690476188|\n",
            "|2010|   10|1.3808888095238092| 8.037071428571428| 288.2575436666666|\n",
            "|2010|   11| 1.936126952380952| 8.426071428571431| 301.3067815714286|\n",
            "|2010|   12|2.0192424545454544| 8.941954545454546| 296.0742549545455|\n",
            "|2011|    1|1.7095334000000002|          9.117625|308.03428664999996|\n",
            "|2011|    2| 1.555578947368421| 9.055894736842106|308.72793899999994|\n",
            "|2011|    3|1.5805797826086954| 8.440195652173912|291.41859369565213|\n",
            "|2011|    4|        1.74439995| 9.228825000000002|277.55955654999997|\n",
            "|2011|    5|1.8408571904761903| 9.908333333333333| 264.9444681904762|\n",
            "|2011|    6|1.8589393181818181| 9.583363636363636|251.70101790909092|\n",
            "|2011|    7|1.8942667499999999|          10.75975|287.16066129999996|\n",
            "|2011|    8| 1.654637695652174| 9.972934782608696| 273.8464579565217|\n",
            "|2011|    9| 1.640634857142857|11.162142857142857|266.35182547619047|\n",
            "|2011|   10|1.8332379999999997|11.341904761904763|  281.152342952381|\n",
            "|2011|   11| 2.138666761904762| 10.27404761904762| 297.5237136190476|\n",
            "|2011|   12| 1.998666619047619| 9.196690476190478|313.98326919047616|\n",
            "|2012|    1|1.8326665500000003|            9.2514|307.75225064999995|\n",
            "+----+-----+------------------+------------------+------------------+\n",
            "only showing top 20 rows\n",
            "\n"
          ]
        }
      ],
      "source": [
        "# Average of each by month\n",
        "final_df.select(year(\"Date\").alias(\"year\"), \n",
        "                 month(\"Date\").alias(\"month\"), \n",
        "                 \"teslaclose\", \"amazonclose\", \n",
        "                 \"googleclose\").groupby(\"year\", \n",
        "                                        \"month\").avg(\"teslaclose\", \n",
        "                                                     \"amazonclose\", \n",
        "                                                     \"googleclose\").sort(\"year\", \n",
        "                                                                         \"month\").show()\n",
        "                "
      ]
    },
    {
      "cell_type": "code",
      "execution_count": 81,
      "metadata": {
        "colab": {
          "base_uri": "https://localhost:8080/"
        },
        "id": "_Ins2IdX4vaS",
        "outputId": "b544a782-08b3-4ed5-b086-2f15416d9f64"
      },
      "outputs": [
        {
          "name": "stdout",
          "output_type": "stream",
          "text": [
            "== Physical Plan ==\n",
            "AdaptiveSparkPlan isFinalPlan=false\n",
            "+- Sort [year#1963 ASC NULLS FIRST, month#1964 ASC NULLS FIRST], true, 0\n",
            "   +- Exchange rangepartitioning(year#1963 ASC NULLS FIRST, month#1964 ASC NULLS FIRST, 200), ENSURE_REQUIREMENTS, [plan_id=1792]\n",
            "      +- HashAggregate(keys=[year#1963, month#1964], functions=[avg(teslaclose#1870), avg(amazonclose#1871), avg(googleclose#1872)])\n",
            "         +- Exchange hashpartitioning(year#1963, month#1964, 200), ENSURE_REQUIREMENTS, [plan_id=1789]\n",
            "            +- HashAggregate(keys=[year#1963, month#1964], functions=[partial_avg(teslaclose#1870), partial_avg(amazonclose#1871), partial_avg(googleclose#1872)])\n",
            "               +- Project [year(Date#1869) AS year#1963, month(Date#1869) AS month#1964, teslaclose#1870, amazonclose#1871, googleclose#1872]\n",
            "                  +- FileScan parquet [Date#1869,teslaclose#1870,amazonclose#1871,googleclose#1872] Batched: true, DataFilters: [], Format: Parquet, Location: InMemoryFileIndex(1 paths)[file:/Users/tequan/Downloads/stock analysis pyspark/joinstocks.parquet], PartitionFilters: [], PushedFilters: [], ReadSchema: struct<Date:date,teslaclose:double,amazonclose:double,googleclose:double>\n",
            "\n",
            "\n"
          ]
        }
      ],
      "source": [
        "final_df.select(year(\"Date\").alias(\"year\"), \n",
        "                 month(\"Date\").alias(\"month\"), \n",
        "                 \"teslaclose\", \"amazonclose\", \n",
        "                 \"googleclose\").groupby(\"year\", \n",
        "                                        \"month\").avg(\"teslaclose\", \n",
        "                                                     \"amazonclose\", \n",
        "                                                     \"googleclose\").sort(\"year\", \n",
        "                                                                         \"month\").explain()"
      ]
    }
  ],
  "metadata": {
    "colab": {
      "collapsed_sections": [],
      "name": "SparkSQL.ipynb",
      "provenance": []
    },
    "kernelspec": {
      "display_name": "Python 3",
      "language": "python",
      "name": "python3"
    },
    "language_info": {
      "codemirror_mode": {
        "name": "ipython",
        "version": 3
      },
      "file_extension": ".py",
      "mimetype": "text/x-python",
      "name": "python",
      "nbconvert_exporter": "python",
      "pygments_lexer": "ipython3",
      "version": "3.10.12"
    }
  },
  "nbformat": 4,
  "nbformat_minor": 0
}
